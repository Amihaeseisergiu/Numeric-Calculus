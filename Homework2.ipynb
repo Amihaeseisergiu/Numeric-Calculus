{
 "cells": [
  {
   "cell_type": "code",
   "execution_count": 22,
   "id": "indie-bangkok",
   "metadata": {
    "scrolled": true
   },
   "outputs": [],
   "source": [
    "import numpy as np\n",
    "from scipy.linalg import lu\n",
    "import random\n",
    "import math\n",
    "\n",
    "random.seed(0)\n",
    "\n",
    "e = None\n",
    "\n",
    "class SymmetricMatrix:\n",
    "    def __init__(self, size=None, from_matrix=None):\n",
    "        \n",
    "        if from_matrix is not None:\n",
    "            self.real_size = len(from_matrix)\n",
    "            self.container = np.zeros((self.real_size * (self.real_size + 1)) // 2)\n",
    "            pos = 0\n",
    "            \n",
    "            for i in range(self.real_size):\n",
    "                for j in range(i + 1):\n",
    "                    self.container[pos] = from_matrix[i,j]\n",
    "                    pos += 1\n",
    "                    \n",
    "        else:\n",
    "            self.real_size = size\n",
    "            self.container = np.zeros((size * (size + 1)) // 2)\n",
    "    \n",
    "    def __len__(self):\n",
    "        return self.real_size\n",
    "    \n",
    "    def get_real_coord(self, coords):\n",
    "        r, c = coords\n",
    "        \n",
    "        if coords[1] > coords[0]:\n",
    "            aux = r\n",
    "            r = c\n",
    "            c = aux\n",
    "        \n",
    "        return ((r * (r + 1)) // 2) + c\n",
    "    \n",
    "    def __setitem__(self, coords, value):\n",
    "        real_coord = self.get_real_coord(coords)\n",
    "        self.container[real_coord] = value\n",
    "        \n",
    "    def __getitem__(self, coords):\n",
    "        real_coord = self.get_real_coord(coords)\n",
    "        return self.container[real_coord]\n",
    "    \n",
    "    def __str__(self):\n",
    "        s = \"\"\n",
    "        to_show = 1\n",
    "        pos = 0\n",
    "        while pos < len(self.container):\n",
    "            for i in range(to_show):\n",
    "                s += str(self.container[pos]) + \",\"\n",
    "                pos += 1\n",
    "            s += \"\\n\"\n",
    "            to_show += 1\n",
    "        return s\n",
    "    \n",
    "    def __repr__(self):\n",
    "        s = \"\"\n",
    "        to_show = 1\n",
    "        pos = 0\n",
    "        while pos < len(self.container):\n",
    "            for i in range(to_show):\n",
    "                s += str(self.container[pos]) + \" \"\n",
    "                pos += 1\n",
    "            s += \"\\n\"\n",
    "            to_show += 1\n",
    "        return s\n",
    "\n",
    "class LinearSystemReader:\n",
    "    def read_linear_system_from_file(path):\n",
    "        with open(path, 'r') as f:\n",
    "            l = [[float(n) for n in line.split(',')] for line in f]\n",
    "            A = [l[r][:-1] for r in range(len(l))]\n",
    "            b = [l[r][-1] for r in range(len(l))]\n",
    "            \n",
    "            return (np.array(A), np.array(b))\n",
    "\n",
    "    def read_linear_system_from_keyboard():\n",
    "        r = int(input(\"Enter the number of rows:\")) \n",
    "        c = int(input(\"Enter the number of columns:\")) \n",
    "        l = []\n",
    "        \n",
    "        if r != c-1:\n",
    "            print(\"Invalid dimensions\")\n",
    "            return None\n",
    "        else:\n",
    "            for i in range(r):\n",
    "                l.append(list(map(float, input().rstrip().split())))\n",
    "\n",
    "            A = [[l[i][j] for j in range(c - 1)] for i in range(r)]\n",
    "            b = [l[i][c - 1] for i in range(r)]\n",
    "            \n",
    "            return (np.array(A), np.array(b))\n",
    "\n",
    "    def write_linear_system_to_file(path, A, b):\n",
    "        with open(path, 'w') as f:\n",
    "            for r in range(len(A)):\n",
    "                for c in range(len(A[0]) + 1):\n",
    "                    if c == len(A[0]):\n",
    "                        f.write(str(b[r]))\n",
    "                    else:\n",
    "                        f.write(str(A[r][c]) + \",\")\n",
    "                f.write(\"\\n\")\n",
    "                \n",
    "    def write_linear_system_to_screen(A, b):\n",
    "        for r in range(len(A)):\n",
    "            l = \"\"\n",
    "            for c in range(len(A[0]) + 1):\n",
    "                if c == len(A[0]):\n",
    "                    l += str(b[r])\n",
    "                else:\n",
    "                    l += str(A[r][c]) + \",\"\n",
    "            print(l)\n",
    "\n",
    "class SymmetricMatrixGenerator:\n",
    "    def random_matrix(size):\n",
    "        A = np.random.randint(-9999, 9999, (size,size))\n",
    "        symm = (A + A.T) / 2\n",
    "        \n",
    "        return symm\n",
    "    \n",
    "    def random_positive_matrix(size):\n",
    "        A = np.random.rand(size,size)\n",
    "        symm = (A + A.T) / 2\n",
    "        \n",
    "        return symm + (size * np.eye(size))\n",
    "\n",
    "class CholeskyDecomposer:\n",
    "    def decompose(A, d):\n",
    "        global e\n",
    "        n = len(A)\n",
    "        \n",
    "        for i in range(n):\n",
    "            for p in range(i + 1):\n",
    "                prod_sum = sum(A[i,j] * A[p,j] for j in range(p))\n",
    "                \n",
    "                if i == p:\n",
    "                    A[i,p] = math.sqrt(d[i] - prod_sum)\n",
    "                elif math.fabs(A[p,p] > e):\n",
    "                    A[i,p] = (A[i,p] - prod_sum) / A[p,p]\n",
    "    \n",
    "    def decompose_restricted(A, d):\n",
    "        global e\n",
    "        n = len(A)\n",
    "        L = SymmetricMatrix(size=n)\n",
    "        \n",
    "        for i in range(n):\n",
    "            for p in range(i + 1):\n",
    "                prod_sum = sum(L[i,j] * L[p,j] for j in range(p))\n",
    "                \n",
    "                if i == p:\n",
    "                    L[i,p] = math.sqrt(d[i] - prod_sum)\n",
    "                elif math.fabs(L[p,p] > e):\n",
    "                    L[i,p] = (A[p,i] - prod_sum) / L[p,p]\n",
    "        \n",
    "        return L\n",
    "    \n",
    "def det_triangular_matrix(A):\n",
    "    det = 1\n",
    "    for i in range(len(A)):\n",
    "        det *= A[i,i]\n",
    "        \n",
    "    return det\n",
    "\n",
    "def solve_system_substitution_method(L, b):\n",
    "    n = len(b)\n",
    "    nl = len(L)\n",
    "    x = np.zeros(n)\n",
    "    \n",
    "    for i in range(n):\n",
    "        prod_sum = sum(L[i,j] * x[j] for j in range(i))\n",
    "        \n",
    "        if math.fabs(L[i,i] > e):\n",
    "            x[i] = (b[i] - prod_sum) / L[i,i]\n",
    "        \n",
    "    return x\n",
    "\n",
    "def solve_system_inverse_substitution_method(L, b):\n",
    "    n = len(b)\n",
    "    nl = len(L)\n",
    "    x = np.zeros(n)\n",
    "    \n",
    "    for i in range(n - 1, -1, -1):\n",
    "        prod_sum = sum(L[i,j] * x[j] for j in range(i + 1, n))\n",
    "        \n",
    "        if math.fabs(L[i,i] > e):\n",
    "            x[i] = (b[i] - prod_sum) / L[i,i]\n",
    "        \n",
    "    return x\n",
    "\n",
    "def lu_decomposition(A):\n",
    "    p, l, u = lu(A)\n",
    "    \n",
    "    return (l, u)\n",
    "\n",
    "def matrix_inverse(A):\n",
    "    n = len(A)\n",
    "    I = np.eye(n)\n",
    "    A_inverse = np.zeros((n,n))\n",
    "    \n",
    "    for i in range(0, n):\n",
    "        y_star = solve_system_substitution_method(A, I[i])\n",
    "        x_star = solve_system_inverse_substitution_method(A.T, y_star)\n",
    "        A_inverse[:,i] = x_star\n",
    "        \n",
    "    return A_inverse\n",
    "\n",
    "def input_error():\n",
    "    global e\n",
    "    m = int(input(\"Enter m:\"))\n",
    "    e = 10 ** (-m)\n",
    "    print(\"Error: %f\"%e)\n",
    "    \n",
    "def extract_diagonal(A):\n",
    "    d = []\n",
    "    for i in range(len(A)):\n",
    "        d.append(A[i,i])\n",
    "        \n",
    "    return d\n",
    "\n",
    "def extract_testing_data(A, d):\n",
    "    n = len(A)\n",
    "    L = np.zeros((n,n))\n",
    "    A_init = np.zeros((n,n))\n",
    "    \n",
    "    for i in range(0, n):\n",
    "        for j in range(0, n):\n",
    "            if j < i:\n",
    "                L[i,j] = A[i,j]\n",
    "            if j > i:\n",
    "                L[i,j] = 0\n",
    "                A_init[i,j] = A[i,j]\n",
    "                A_init[j,i] = A[i,j]\n",
    "            if i == j:\n",
    "                L[i,j] = A[i,j]\n",
    "                A_init[i,j] = d[i]\n",
    "            \n",
    "    return A_init, L, L.T\n",
    "    "
   ]
  },
  {
   "cell_type": "code",
   "execution_count": 23,
   "id": "dangerous-gravity",
   "metadata": {},
   "outputs": [
    {
     "name": "stdout",
     "output_type": "stream",
     "text": [
      "Enter m:5\n",
      "Error: 0.000010\n"
     ]
    }
   ],
   "source": [
    "input_error()"
   ]
  },
  {
   "cell_type": "code",
   "execution_count": 24,
   "id": "regional-sculpture",
   "metadata": {},
   "outputs": [
    {
     "data": {
      "text/plain": [
       "(array([[4., 2., 4.],\n",
       "        [2., 2., 2.],\n",
       "        [4., 2., 5.]]),\n",
       " array([12.,  6., 13.]))"
      ]
     },
     "execution_count": 24,
     "metadata": {},
     "output_type": "execute_result"
    }
   ],
   "source": [
    "A, b = LinearSystemReader.read_linear_system_from_file(\"./data/linear_system_example.csv\")\n",
    "A, b"
   ]
  },
  {
   "cell_type": "code",
   "execution_count": 25,
   "id": "fitting-hydrogen",
   "metadata": {},
   "outputs": [
    {
     "data": {
      "text/plain": [
       "[4.0, 2.0, 5.0]"
      ]
     },
     "execution_count": 25,
     "metadata": {},
     "output_type": "execute_result"
    }
   ],
   "source": [
    "d = extract_diagonal(A)\n",
    "d"
   ]
  },
  {
   "cell_type": "code",
   "execution_count": 26,
   "id": "primary-radar",
   "metadata": {},
   "outputs": [
    {
     "data": {
      "text/plain": [
       "array([[2., 2., 4.],\n",
       "       [1., 1., 2.],\n",
       "       [2., 0., 1.]])"
      ]
     },
     "execution_count": 26,
     "metadata": {},
     "output_type": "execute_result"
    }
   ],
   "source": [
    "CholeskyDecomposer.decompose(A, d)\n",
    "A"
   ]
  },
  {
   "cell_type": "code",
   "execution_count": 27,
   "id": "induced-shareware",
   "metadata": {},
   "outputs": [
    {
     "data": {
      "text/plain": [
       "(array([[4., 2., 4.],\n",
       "        [2., 2., 2.],\n",
       "        [4., 2., 5.]]),\n",
       " array([[2., 0., 0.],\n",
       "        [1., 1., 0.],\n",
       "        [2., 0., 1.]]),\n",
       " array([[2., 1., 2.],\n",
       "        [0., 1., 0.],\n",
       "        [0., 0., 1.]]))"
      ]
     },
     "execution_count": 27,
     "metadata": {},
     "output_type": "execute_result"
    }
   ],
   "source": [
    "A_init, L, L_T = extract_testing_data(A, d)\n",
    "A_init, L, L_T"
   ]
  },
  {
   "cell_type": "code",
   "execution_count": 28,
   "id": "warming-fairy",
   "metadata": {},
   "outputs": [
    {
     "data": {
      "text/plain": [
       "0.0"
      ]
     },
     "execution_count": 28,
     "metadata": {},
     "output_type": "execute_result"
    }
   ],
   "source": [
    "np.linalg.norm(A_init - L @ L_T)"
   ]
  },
  {
   "cell_type": "code",
   "execution_count": 29,
   "id": "musical-reason",
   "metadata": {},
   "outputs": [
    {
     "data": {
      "text/plain": [
       "4.0"
      ]
     },
     "execution_count": 29,
     "metadata": {},
     "output_type": "execute_result"
    }
   ],
   "source": [
    "det_A = det_triangular_matrix(A) * det_triangular_matrix(A)\n",
    "det_A"
   ]
  },
  {
   "cell_type": "code",
   "execution_count": 30,
   "id": "altered-atmosphere",
   "metadata": {},
   "outputs": [
    {
     "data": {
      "text/plain": [
       "0.0"
      ]
     },
     "execution_count": 30,
     "metadata": {},
     "output_type": "execute_result"
    }
   ],
   "source": [
    "np.linalg.norm(np.linalg.det(A_init) - det_A)"
   ]
  },
  {
   "cell_type": "code",
   "execution_count": 31,
   "id": "sacred-watershed",
   "metadata": {},
   "outputs": [
    {
     "data": {
      "text/plain": [
       "array([[2., 0., 0.],\n",
       "       [1., 1., 0.],\n",
       "       [2., 0., 1.]])"
      ]
     },
     "execution_count": 31,
     "metadata": {},
     "output_type": "execute_result"
    }
   ],
   "source": [
    "L"
   ]
  },
  {
   "cell_type": "code",
   "execution_count": 32,
   "id": "informed-wayne",
   "metadata": {},
   "outputs": [
    {
     "data": {
      "text/plain": [
       "array([6., 0., 1.])"
      ]
     },
     "execution_count": 32,
     "metadata": {},
     "output_type": "execute_result"
    }
   ],
   "source": [
    "solve_system_substitution_method(A, b)"
   ]
  },
  {
   "cell_type": "code",
   "execution_count": 33,
   "id": "exposed-compact",
   "metadata": {},
   "outputs": [
    {
     "data": {
      "text/plain": [
       "array([2., 0., 1.])"
      ]
     },
     "execution_count": 33,
     "metadata": {},
     "output_type": "execute_result"
    }
   ],
   "source": [
    "y_star = solve_system_substitution_method(A, b)\n",
    "x_star = solve_system_inverse_substitution_method(A.T, y_star)\n",
    "x_star"
   ]
  },
  {
   "cell_type": "code",
   "execution_count": 34,
   "id": "vanilla-registration",
   "metadata": {},
   "outputs": [
    {
     "data": {
      "text/plain": [
       "0.0"
      ]
     },
     "execution_count": 34,
     "metadata": {},
     "output_type": "execute_result"
    }
   ],
   "source": [
    "np.linalg.norm(A_init @ x_star - b)"
   ]
  },
  {
   "cell_type": "code",
   "execution_count": 35,
   "id": "educational-territory",
   "metadata": {},
   "outputs": [
    {
     "data": {
      "text/plain": [
       "(array([[1. , 0. , 0. ],\n",
       "        [0.5, 1. , 0. ],\n",
       "        [1. , 0. , 1. ]]),\n",
       " array([[4., 2., 4.],\n",
       "        [0., 1., 0.],\n",
       "        [0., 0., 1.]]))"
      ]
     },
     "execution_count": 35,
     "metadata": {},
     "output_type": "execute_result"
    }
   ],
   "source": [
    "L_lu, U_lu = lu_decomposition(A_init)\n",
    "L_lu, U_lu"
   ]
  },
  {
   "cell_type": "code",
   "execution_count": 36,
   "id": "measured-school",
   "metadata": {},
   "outputs": [
    {
     "data": {
      "text/plain": [
       "array([2., 0., 1.])"
      ]
     },
     "execution_count": 36,
     "metadata": {},
     "output_type": "execute_result"
    }
   ],
   "source": [
    "y_star_lu = solve_system_substitution_method(L_lu, b)\n",
    "x_star_lu = solve_system_inverse_substitution_method(U_lu, y_star_lu)\n",
    "x_star_lu"
   ]
  },
  {
   "cell_type": "code",
   "execution_count": 37,
   "id": "magnetic-limitation",
   "metadata": {},
   "outputs": [
    {
     "data": {
      "text/plain": [
       "0.0"
      ]
     },
     "execution_count": 37,
     "metadata": {},
     "output_type": "execute_result"
    }
   ],
   "source": [
    "np.linalg.norm(A_init @ x_star_lu - b)"
   ]
  },
  {
   "cell_type": "code",
   "execution_count": 38,
   "id": "parental-midwest",
   "metadata": {},
   "outputs": [
    {
     "data": {
      "text/plain": [
       "array([[ 1.5, -0.5, -1. ],\n",
       "       [-0.5,  1. ,  0. ],\n",
       "       [-1. ,  0. ,  1. ]])"
      ]
     },
     "execution_count": 38,
     "metadata": {},
     "output_type": "execute_result"
    }
   ],
   "source": [
    "A_inverse = matrix_inverse(A)\n",
    "A_inverse"
   ]
  },
  {
   "cell_type": "code",
   "execution_count": 39,
   "id": "blank-multimedia",
   "metadata": {},
   "outputs": [
    {
     "data": {
      "text/plain": [
       "0.0"
      ]
     },
     "execution_count": 39,
     "metadata": {},
     "output_type": "execute_result"
    }
   ],
   "source": [
    "np.linalg.norm(A_init @ A_inverse - np.eye(len(A_init), len(A_init)))"
   ]
  },
  {
   "cell_type": "code",
   "execution_count": 40,
   "id": "entertaining-involvement",
   "metadata": {},
   "outputs": [
    {
     "data": {
      "text/plain": [
       "0.0"
      ]
     },
     "execution_count": 40,
     "metadata": {},
     "output_type": "execute_result"
    }
   ],
   "source": [
    "np.linalg.norm(A_inverse - np.linalg.inv(A_init))"
   ]
  },
  {
   "cell_type": "code",
   "execution_count": 41,
   "id": "loved-absolute",
   "metadata": {},
   "outputs": [
    {
     "data": {
      "text/plain": [
       "2.0 \n",
       "1.0 1.0 \n",
       "2.0 0.0 1.0 "
      ]
     },
     "execution_count": 41,
     "metadata": {},
     "output_type": "execute_result"
    }
   ],
   "source": [
    "L = CholeskyDecomposer.decompose_restricted(A, d)\n",
    "L"
   ]
  },
  {
   "cell_type": "code",
   "execution_count": 42,
   "id": "damaged-turning",
   "metadata": {},
   "outputs": [
    {
     "data": {
      "text/plain": [
       "array([6., 0., 1.])"
      ]
     },
     "execution_count": 42,
     "metadata": {},
     "output_type": "execute_result"
    }
   ],
   "source": [
    "solve_system_substitution_method(L, b)"
   ]
  },
  {
   "cell_type": "code",
   "execution_count": null,
   "id": "respective-touch",
   "metadata": {},
   "outputs": [],
   "source": []
  }
 ],
 "metadata": {
  "kernelspec": {
   "display_name": "Python 3",
   "language": "python",
   "name": "python3"
  },
  "language_info": {
   "codemirror_mode": {
    "name": "ipython",
    "version": 3
   },
   "file_extension": ".py",
   "mimetype": "text/x-python",
   "name": "python",
   "nbconvert_exporter": "python",
   "pygments_lexer": "ipython3",
   "version": "3.6.0"
  }
 },
 "nbformat": 4,
 "nbformat_minor": 5
}
