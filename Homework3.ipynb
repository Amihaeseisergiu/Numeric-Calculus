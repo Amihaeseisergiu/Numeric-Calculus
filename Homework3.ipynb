{
 "cells": [
  {
   "cell_type": "code",
   "execution_count": 1,
   "id": "smoking-clothing",
   "metadata": {},
   "outputs": [],
   "source": [
    "import math\n",
    "import copy\n",
    "\n",
    "A_FILE_PATH = \"./data/a.txt\"\n",
    "B_FILE_PATH = \"./data/b.txt\"\n",
    "C_FILE_PATH = \"./data/c.txt\"\n",
    "D_FILE_PATH = \"./data/d.txt\"\n",
    "\n",
    "SUM_FILE_PATH = \"./data/aplusb.txt\"\n",
    "MULTIPLICATION_FILE_PATH = \"./data/aorib.txt\"\n",
    "MULTIPLICATION2_FILE_PATH = \"./data/corid.txt\"\n",
    "\n",
    "class RareMatrix:\n",
    "    def __init__(self, from_matrix=None):\n",
    "        \n",
    "        if from_matrix:\n",
    "            self.n = from_matrix.n\n",
    "            self.rare_values = copy.deepcopy(from_matrix.rare_values)\n",
    "        else:\n",
    "            self.n = 0\n",
    "            self.rare_values = {}\n",
    "        \n",
    "    def __setitem__(self, coords, value):\n",
    "        if value != 0.0:\n",
    "            if coords[0] in self.rare_values:\n",
    "                self.rare_values[coords[0]][coords[1]] = value\n",
    "            else:\n",
    "                self.rare_values[coords[0]] = {coords[1]: value}\n",
    "            \n",
    "    def __getitem__(self, coords):\n",
    "        if coords[0] in self.rare_values:\n",
    "            if coords[1] in self.rare_values[coords[0]]:\n",
    "                return self.rare_values[coords[0]][coords[1]]\n",
    "        \n",
    "        return 0.0\n",
    "    \n",
    "    def from_file_path(path):\n",
    "        A = RareMatrix()\n",
    "        \n",
    "        with open(path, 'r') as f:\n",
    "            A.n = int(f.readline())\n",
    "            f.readline()\n",
    "            \n",
    "            for line in f:\n",
    "                value, i, j = line.split(',')\n",
    "                A[int(i), int(j)] = A[int(i), int(j)] + float(value)\n",
    "        \n",
    "        return A\n",
    "    \n",
    "    def sum_triag_matrix(self, B):\n",
    "        A = RareMatrix(from_matrix=self)\n",
    "        \n",
    "        for i in range(0, B.n):\n",
    "            A[i,i] = A[i,i] + B.a[i]\n",
    "            \n",
    "            if i < B.n - B.p:\n",
    "                A[i, i + B.p] = A[i, i + B.p] + B.b[i]\n",
    "            \n",
    "            if i < B.n - B.q:\n",
    "                A[i + B.q, i] = A[i + B.q, i] + B.c[i]\n",
    "                \n",
    "        return A\n",
    "    \n",
    "    def equals(self, B, error):\n",
    "        for i in self.rare_values:\n",
    "            for j in self.rare_values[i]:\n",
    "                if math.fabs(self[i,j] - B[i,j]) > error:\n",
    "                    return False\n",
    "        \n",
    "        return True\n",
    "    \n",
    "    def mul_triag_matrix(self, B):\n",
    "        A = RareMatrix()\n",
    "        \n",
    "        for i in self.rare_values:\n",
    "            for j in range(0, B.n):\n",
    "                prod1 = B.a[j] * self[i,j]\n",
    "                prod2 = 0.0\n",
    "                prod3 = 0.0\n",
    "                \n",
    "                if j >= B.p:\n",
    "                    prod2 = B.b[j - B.p] * self[i,j - B.p]\n",
    "                \n",
    "                if j < B.n - B.q:\n",
    "                    prod3 = B.c[j] * self[i, j + B.q]\n",
    "                    \n",
    "                A[i,j] = prod1 + prod2 + prod3\n",
    "        \n",
    "        return A\n",
    "    \n",
    "class RareTriagMatrix:\n",
    "    def __init__(self):\n",
    "        self.n = 0\n",
    "        self.p = 0\n",
    "        self.q = 0\n",
    "        self.a = []\n",
    "        self.b = []\n",
    "        self.c = []\n",
    "    \n",
    "    def from_file_path(path):\n",
    "        A = RareTriagMatrix()\n",
    "        \n",
    "        with open(path, 'r') as f:\n",
    "            A.n = int(f.readline())\n",
    "            A.p = int(f.readline())\n",
    "            A.q = int(f.readline())\n",
    "            f.readline()\n",
    "            \n",
    "            for i in range(0, A.n):\n",
    "                A.a.append(float(f.readline()))\n",
    "            f.readline()\n",
    "            \n",
    "            for i in range(0, A.n - A.p):\n",
    "                A.b.append(float(f.readline()))\n",
    "            f.readline()\n",
    "            \n",
    "            for i in range(0, A.n - A.q):\n",
    "                A.c.append(float(f.readline()))\n",
    "            f.readline()\n",
    "                \n",
    "        return A\n",
    "    \n",
    "    def mul_triag_matrix(self, B):\n",
    "        A = RareMatrix()\n",
    "        \n",
    "        for i in range(0, self.n):\n",
    "            coords_A = [(i, self.a[i])]\n",
    "            if i < self.n - self.p:\n",
    "                coords_A.append((i + self.p, self.b[i]))\n",
    "            if i >= self.q:\n",
    "                coords_A.append((i - self.q, self.c[i - self.q]))\n",
    "            \n",
    "            for j in range(0, B.n):\n",
    "                coords_B = [(j, B.a[j])]\n",
    "                if j >= B.p:\n",
    "                    coords_B.append((j - B.p, B.b[j - B.p]))\n",
    "                if j < B.n - B.q:\n",
    "                    coords_B.append((j + B.q, B.c[j]))\n",
    "                    \n",
    "                for coord_A in coords_A:\n",
    "                    for coord_B in coords_B:\n",
    "                        if coord_A[0] == coord_B[0]:\n",
    "                            A[i,j] = A[i,j] + coord_A[1] * coord_B[1]\n",
    "        \n",
    "        return A\n"
   ]
  },
  {
   "cell_type": "code",
   "execution_count": 2,
   "id": "professional-mobility",
   "metadata": {},
   "outputs": [
    {
     "data": {
      "text/plain": [
       "(2021, {0: 132.5, 1110: 7.0, 15: 17.0, 245: 8.0})"
      ]
     },
     "execution_count": 2,
     "metadata": {},
     "output_type": "execute_result"
    }
   ],
   "source": [
    "A = RareMatrix.from_file_path(A_FILE_PATH)\n",
    "A.n, A.rare_values[0]"
   ]
  },
  {
   "cell_type": "code",
   "execution_count": 3,
   "id": "fossil-worthy",
   "metadata": {
    "scrolled": true
   },
   "outputs": [
    {
     "data": {
      "text/plain": [
       "(2021, 2020, 2020)"
      ]
     },
     "execution_count": 3,
     "metadata": {},
     "output_type": "execute_result"
    }
   ],
   "source": [
    "B = RareTriagMatrix.from_file_path(B_FILE_PATH)\n",
    "len(B.a), len(B.b), len(B.c)"
   ]
  },
  {
   "cell_type": "code",
   "execution_count": 4,
   "id": "generous-kingdom",
   "metadata": {},
   "outputs": [
    {
     "data": {
      "text/plain": [
       "{626: 24.5, 878: 21.0, 1: 161.0, 187: 1.0, 937: 3.5, 0: 1.75, 2: 4.75}"
      ]
     },
     "execution_count": 4,
     "metadata": {},
     "output_type": "execute_result"
    }
   ],
   "source": [
    "my_A_plus_B = A.sum_triag_matrix(B)\n",
    "my_A_plus_B.rare_values[1]"
   ]
  },
  {
   "cell_type": "code",
   "execution_count": 5,
   "id": "verbal-polls",
   "metadata": {},
   "outputs": [
    {
     "data": {
      "text/plain": [
       "True"
      ]
     },
     "execution_count": 5,
     "metadata": {},
     "output_type": "execute_result"
    }
   ],
   "source": [
    "read_A_plus_B = RareMatrix.from_file_path(SUM_FILE_PATH)\n",
    "my_A_plus_B.equals(read_A_plus_B, 10 **(-10))"
   ]
  },
  {
   "cell_type": "code",
   "execution_count": 6,
   "id": "vertical-scottish",
   "metadata": {},
   "outputs": [
    {
     "data": {
      "text/plain": [
       "{0: 1424.375,\n",
       " 1: 397.5,\n",
       " 14: 157.25,\n",
       " 15: 89.25,\n",
       " 16: 119.0,\n",
       " 244: 68.0,\n",
       " 245: 84.0,\n",
       " 246: 48.0,\n",
       " 1109: 8.75,\n",
       " 1110: 14.0,\n",
       " 1111: 89.25}"
      ]
     },
     "execution_count": 6,
     "metadata": {},
     "output_type": "execute_result"
    }
   ],
   "source": [
    "my_A_ori_B = A.mul_triag_matrix(B)\n",
    "my_A_ori_B.rare_values[0]"
   ]
  },
  {
   "cell_type": "code",
   "execution_count": 7,
   "id": "stone-kitty",
   "metadata": {},
   "outputs": [
    {
     "data": {
      "text/plain": [
       "{0: 1424.375,\n",
       " 14: 157.25,\n",
       " 16: 119.0,\n",
       " 244: 68.0,\n",
       " 246: 48.0,\n",
       " 1110: 14.0,\n",
       " 1: 397.5,\n",
       " 15: 89.25,\n",
       " 245: 84.0,\n",
       " 1109: 8.75,\n",
       " 1111: 89.25}"
      ]
     },
     "execution_count": 7,
     "metadata": {},
     "output_type": "execute_result"
    }
   ],
   "source": [
    "read_A_ori_B = RareMatrix.from_file_path(MULTIPLICATION_FILE_PATH)\n",
    "read_A_ori_B.rare_values[0]"
   ]
  },
  {
   "cell_type": "code",
   "execution_count": 8,
   "id": "second-athletics",
   "metadata": {},
   "outputs": [
    {
     "data": {
      "text/plain": [
       "True"
      ]
     },
     "execution_count": 8,
     "metadata": {},
     "output_type": "execute_result"
    }
   ],
   "source": [
    "my_A_ori_B.equals(read_A_ori_B, 10 **(-10))"
   ]
  },
  {
   "cell_type": "code",
   "execution_count": 9,
   "id": "golden-building",
   "metadata": {},
   "outputs": [
    {
     "data": {
      "text/plain": [
       "(5, 3, 4)"
      ]
     },
     "execution_count": 9,
     "metadata": {},
     "output_type": "execute_result"
    }
   ],
   "source": [
    "C = RareTriagMatrix.from_file_path(C_FILE_PATH)\n",
    "len(C.a), len(C.b), len(C.c)"
   ]
  },
  {
   "cell_type": "code",
   "execution_count": 10,
   "id": "advised-chrome",
   "metadata": {},
   "outputs": [
    {
     "data": {
      "text/plain": [
       "(5, 3, 3)"
      ]
     },
     "execution_count": 10,
     "metadata": {},
     "output_type": "execute_result"
    }
   ],
   "source": [
    "D = RareTriagMatrix.from_file_path(D_FILE_PATH)\n",
    "len(D.a), len(D.b), len(D.c)"
   ]
  },
  {
   "cell_type": "code",
   "execution_count": 11,
   "id": "legendary-field",
   "metadata": {},
   "outputs": [
    {
     "data": {
      "text/plain": [
       "{0: 1164.0, 2: 585.0, 4: 83.5}"
      ]
     },
     "execution_count": 11,
     "metadata": {},
     "output_type": "execute_result"
    }
   ],
   "source": [
    "my_C_ori_D = C.mul_triag_matrix(D)\n",
    "my_C_ori_D.rare_values[0]"
   ]
  },
  {
   "cell_type": "code",
   "execution_count": 12,
   "id": "annual-manufacturer",
   "metadata": {},
   "outputs": [
    {
     "data": {
      "text/plain": [
       "{0: 1164.0, 2: 585.0, 4: 83.5}"
      ]
     },
     "execution_count": 12,
     "metadata": {},
     "output_type": "execute_result"
    }
   ],
   "source": [
    "read_C_ori_D = RareMatrix.from_file_path(MULTIPLICATION2_FILE_PATH)\n",
    "read_C_ori_D.rare_values[0]"
   ]
  },
  {
   "cell_type": "code",
   "execution_count": 13,
   "id": "characteristic-consolidation",
   "metadata": {},
   "outputs": [
    {
     "data": {
      "text/plain": [
       "True"
      ]
     },
     "execution_count": 13,
     "metadata": {},
     "output_type": "execute_result"
    }
   ],
   "source": [
    "my_C_ori_D.equals(read_C_ori_D, 10 **(-10))"
   ]
  },
  {
   "cell_type": "code",
   "execution_count": null,
   "id": "statistical-winner",
   "metadata": {},
   "outputs": [],
   "source": []
  }
 ],
 "metadata": {
  "kernelspec": {
   "display_name": "Python 3",
   "language": "python",
   "name": "python3"
  },
  "language_info": {
   "codemirror_mode": {
    "name": "ipython",
    "version": 3
   },
   "file_extension": ".py",
   "mimetype": "text/x-python",
   "name": "python",
   "nbconvert_exporter": "python",
   "pygments_lexer": "ipython3",
   "version": "3.6.0"
  }
 },
 "nbformat": 4,
 "nbformat_minor": 5
}
